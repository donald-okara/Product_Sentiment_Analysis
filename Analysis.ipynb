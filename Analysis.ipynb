{
 "cells": [
  {
   "cell_type": "markdown",
   "metadata": {},
   "source": [
    "# Product Sentiment Analysis"
   ]
  },
  {
   "cell_type": "code",
   "execution_count": null,
   "metadata": {},
   "outputs": [],
   "source": [
    "#Importing Libraries\n",
    "import pandas as pd \n",
    "import numpy as np \n",
    "import seaborn as sns \n",
    "import matplotlib.pyplot as plt \n",
    "color = sns.color_palette()  \n",
    "%matplotlib inline  \n",
    "import plotly.offline as py  \n",
    "py.init_notebook_mode(connected=True)  \n",
    "import plotly.graph_objs as go  \n",
    "import plotly.tools as tls  \n",
    "import plotly.express as px\n",
    "print(\"Libraries imported successfully...\")"
   ]
  },
  {
   "cell_type": "code",
   "execution_count": null,
   "metadata": {},
   "outputs": [],
   "source": [
    "#Importing Data\n",
    "df = pd.read_csv('Dataset-SA.csv')\n",
    "print(\"Data imported successfully...\")"
   ]
  },
  {
   "cell_type": "code",
   "execution_count": null,
   "metadata": {},
   "outputs": [],
   "source": [
    "#Preprocess Rate column\n",
    "\n",
    "df['Rate'] = pd.to_numeric(df['Rate'], errors='coerce')  # 'coerce' to handle non-numeric values\n",
    "\n",
    "df['Rate'].fillna(0, inplace=True)  # Replace NaN with 0 or any other desired value\n",
    "\n",
    "df['Rate'] = df['Rate'].astype(int)\n"
   ]
  },
  {
   "cell_type": "code",
   "execution_count": null,
   "metadata": {},
   "outputs": [],
   "source": [
    "df.drop(\"Sentiment\", axis=1, inplace=True)"
   ]
  },
  {
   "cell_type": "code",
   "execution_count": null,
   "metadata": {},
   "outputs": [],
   "source": [
    "#Distribution of rate values\n",
    "fig = px.histogram(df, x=\"Rate\")  \n",
    "fig.update_traces(marker_color=\"turquoise\",marker_line_color='rgb(8,48,107)',  \n",
    "                  marker_line_width=1.5)  \n",
    "fig.update_layout(title_text='Product Score')  \n",
    "fig.show()"
   ]
  },
  {
   "cell_type": "code",
   "execution_count": null,
   "metadata": {},
   "outputs": [],
   "source": [
    "df['Sentiment'] = df['Rate'].apply(lambda rating :\"positive\" if rating > 3 else (\"neutral\" if rating == 3 else \"negative\"))"
   ]
  },
  {
   "cell_type": "code",
   "execution_count": null,
   "metadata": {},
   "outputs": [],
   "source": [
    "fig = px.histogram(df, x=\"Sentiment\")  \n",
    "fig.update_traces(marker_color=\"indianred\",marker_line_color='rgb(8,48,107)',  \n",
    "                  marker_line_width=1.5)  \n",
    "fig.update_layout(title_text='Product Sentiment')  \n",
    "fig.show()"
   ]
  },
  {
   "cell_type": "code",
   "execution_count": null,
   "metadata": {},
   "outputs": [],
   "source": [
    "import nltk  \n",
    "from nltk.corpus import stopwords# Create stopword list:  \n",
    "from wordcloud import WordCloud  # Add this import for WordCloud\n",
    "\n",
    "nltk.download('stopwords')\n",
    "\n",
    "stopwords = set(stopwords.words('english'))  # Use 'words' method to get English stopwords\n",
    "stopwords.update([\"br\", \"href\"]) \n",
    "\n",
    "df['Summary'] = df['Summary'].astype(str)\n",
    "\n",
    "textt = \" \".join(review for review in df.Summary)  \n",
    "wordcloud = WordCloud(stopwords=stopwords).generate(textt)\n",
    "plt.imshow(wordcloud, interpolation='bilinear')  \n",
    "plt.axis(\"off\")  \n",
    "plt.savefig('wordcloud11.png')  \n",
    "plt.show()\n"
   ]
  },
  {
   "cell_type": "code",
   "execution_count": null,
   "metadata": {},
   "outputs": [],
   "source": [
    "# splitdf - positive and negative sentiment:\n",
    "positive = df[df['Sentiment'] == 'positive']  \n",
    "negative = df[df['Sentiment'] == 'negative']\n",
    "neutral = df[df['Sentiment'] == 'neutral']\n"
   ]
  },
  {
   "cell_type": "code",
   "execution_count": null,
   "metadata": {},
   "outputs": [],
   "source": [
    "#Wordcloud for positive reviews\n",
    "\n",
    "stopwords.update([\"br\", \"href\",\"good\",\"great\", \"quality\", \"product\", \"flipkart\"]) ## good and great removed because they were included in negative sentiment\n",
    "pos = \" \".join(review for review in positive.Summary)  \n",
    "wordcloud2 = WordCloud(stopwords=stopwords).generate(pos)\n",
    "plt.imshow(wordcloud2, interpolation='bilinear')  \n",
    "plt.axis(\"off\")  \n",
    "plt.savefig('wordcloud22.png')  \n",
    "plt.show()"
   ]
  },
  {
   "cell_type": "code",
   "execution_count": null,
   "metadata": {},
   "outputs": [],
   "source": [
    "#Wordcloud for negative sentiment \n",
    "neg = \" \".join(review for review in negative.Summary)  \n",
    "wordcloud3 = WordCloud(stopwords=stopwords).generate(neg)\n",
    "plt.imshow(wordcloud3, interpolation='bilinear')  \n",
    "plt.axis(\"off\")  \n",
    "plt.savefig('wordcloud33.png')  \n",
    "plt.show()"
   ]
  },
  {
   "cell_type": "code",
   "execution_count": null,
   "metadata": {},
   "outputs": [],
   "source": [
    "#Wordcloud for neutral sentiment \n",
    "neut = \" \".join(review for review in neutral.Summary)  \n",
    "wordcloud4 = WordCloud(stopwords=stopwords).generate(neut)\n",
    "plt.imshow(wordcloud4, interpolation='bilinear')  \n",
    "plt.axis(\"off\")  \n",
    "plt.savefig('wordcloud44.png')  \n",
    "plt.show()\n"
   ]
  },
  {
   "cell_type": "code",
   "execution_count": null,
   "metadata": {},
   "outputs": [],
   "source": []
  },
  {
   "cell_type": "code",
   "execution_count": null,
   "metadata": {},
   "outputs": [],
   "source": []
  }
 ],
 "metadata": {
  "kernelspec": {
   "display_name": "NewEnv",
   "language": "python",
   "name": "python3"
  },
  "language_info": {
   "codemirror_mode": {
    "name": "ipython",
    "version": 3
   },
   "file_extension": ".py",
   "mimetype": "text/x-python",
   "name": "python",
   "nbconvert_exporter": "python",
   "pygments_lexer": "ipython3",
   "version": "3.8.13"
  },
  "orig_nbformat": 4
 },
 "nbformat": 4,
 "nbformat_minor": 2
}
